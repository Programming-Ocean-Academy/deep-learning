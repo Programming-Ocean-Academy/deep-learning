{
  "nbformat": 4,
  "nbformat_minor": 0,
  "metadata": {
    "colab": {
      "provenance": [],
      "machine_shape": "hm",
      "gpuType": "L4"
    },
    "kernelspec": {
      "name": "python3",
      "display_name": "Python 3"
    },
    "language_info": {
      "name": "python"
    },
    "accelerator": "GPU"
  },
  "cells": [
    {
      "cell_type": "code",
      "execution_count": 2,
      "metadata": {
        "colab": {
          "base_uri": "https://localhost:8080/",
          "height": 349
        },
        "id": "kzINGnGbc9vQ",
        "outputId": "a80eb735-5f63-4589-cc04-b503fc646e54"
      },
      "outputs": [
        {
          "output_type": "stream",
          "name": "stderr",
          "text": [
            "Epoch 1/10: 100%|██████████| 469/469 [00:28<00:00, 16.31it/s, loss=-0.0547]\n",
            "Epoch 2/10: 100%|██████████| 469/469 [00:28<00:00, 16.38it/s, loss=0.803]\n",
            "Epoch 3/10: 100%|██████████| 469/469 [00:28<00:00, 16.40it/s, loss=-0.0799]\n",
            "Epoch 4/10: 100%|██████████| 469/469 [00:28<00:00, 16.22it/s, loss=0.737]\n",
            "Epoch 5/10: 100%|██████████| 469/469 [00:28<00:00, 16.39it/s, loss=0.373]\n",
            "Epoch 6/10: 100%|██████████| 469/469 [00:28<00:00, 16.42it/s, loss=-0.165]\n",
            "Epoch 7/10: 100%|██████████| 469/469 [00:28<00:00, 16.44it/s, loss=-0.805]\n",
            "Epoch 8/10: 100%|██████████| 469/469 [00:28<00:00, 16.36it/s, loss=0.396]\n",
            "Epoch 9/10: 100%|██████████| 469/469 [00:28<00:00, 16.42it/s, loss=0.0794]\n",
            "Epoch 10/10: 100%|██████████| 469/469 [00:28<00:00, 16.58it/s, loss=2.29]\n"
          ]
        },
        {
          "output_type": "display_data",
          "data": {
            "text/plain": [
              "<Figure size 1200x200 with 1 Axes>"
            ],
            "image/png": "[encoded data removed]"
          },
          "metadata": {}
        }
      ],
      "source": [
        "# Energy-Based Model (EBM) for MNIST with Langevin Dynamics Sampling\n",
        "\n",
        "import torch\n",
        "import torch.nn as nn\n",
        "import torch.nn.functional as F\n",
        "from torchvision import datasets, transforms\n",
        "from torch.utils.data import DataLoader\n",
        "import matplotlib.pyplot as plt\n",
        "import numpy as np\n",
        "from tqdm import tqdm\n",
        "\n",
        "# Device\n",
        "device = torch.device(\"cuda\" if torch.cuda.is_available() else \"cpu\")\n",
        "\n",
        "# Data\n",
        "dataset = datasets.MNIST(root=\"./data\", train=True, transform=transforms.ToTensor(), download=True)\n",
        "dataloader = DataLoader(dataset, batch_size=128, shuffle=True)\n",
        "\n",
        "# EBM Model: maps input to scalar energy\n",
        "class EBM(nn.Module):\n",
        "    def __init__(self):\n",
        "        super().__init__()\n",
        "        self.net = nn.Sequential(\n",
        "            nn.Flatten(),\n",
        "            nn.Linear(28*28, 256),\n",
        "            nn.ReLU(),\n",
        "            nn.Linear(256, 256),\n",
        "            nn.ReLU(),\n",
        "            nn.Linear(256, 1)\n",
        "        )\n",
        "\n",
        "    def forward(self, x):\n",
        "        return self.net(x).squeeze()\n",
        "\n",
        "# Langevin dynamics sampling\n",
        "def sample_langevin(model, shape, steps=60, step_size=0.1, noise_scale=0.005):\n",
        "    x = torch.randn(shape, device=device, requires_grad=True)\n",
        "    for _ in range(steps):\n",
        "        energy = model(x)\n",
        "        grad = torch.autograd.grad(energy.sum(), x, create_graph=False)[0]\n",
        "        noise = torch.randn_like(x) * noise_scale\n",
        "        x.data -= 0.5 * step_size * grad + noise\n",
        "        x.data.clamp_(0, 1)\n",
        "    return x.detach()\n",
        "\n",
        "# Initialize model and optimizer\n",
        "model = EBM().to(device)\n",
        "optimizer = torch.optim.Adam(model.parameters(), lr=1e-4)\n",
        "\n",
        "# Training loop\n",
        "for epoch in range(10):\n",
        "    pbar = tqdm(dataloader, desc=f\"Epoch {epoch+1}/10\")\n",
        "    for real, _ in pbar:\n",
        "        real = real.to(device)\n",
        "\n",
        "        # Sample from model\n",
        "        fake = sample_langevin(model, real.shape)\n",
        "\n",
        "        # Compute energies\n",
        "        energy_real = model(real)\n",
        "        energy_fake = model(fake)\n",
        "\n",
        "        # Loss: maximize energy of fake, minimize energy of real\n",
        "        loss = (energy_real - energy_fake).mean()\n",
        "\n",
        "        optimizer.zero_grad()\n",
        "        loss.backward()\n",
        "        optimizer.step()\n",
        "\n",
        "        pbar.set_postfix(loss=loss.item())\n",
        "\n",
        "# Generate and show samples\n",
        "samples = sample_langevin(model, (8, 1, 28, 28), steps=100)\n",
        "\n",
        "def show_images(images, title=\"\"):\n",
        "    grid = torch.cat([img.squeeze(0) for img in images], dim=1).cpu().numpy()\n",
        "    plt.figure(figsize=(12, 2))\n",
        "    plt.imshow(grid, cmap='gray')\n",
        "    plt.axis('off')\n",
        "    plt.title(title)\n",
        "    plt.show()\n",
        "\n",
        "show_images(samples, title=\"Generated Samples from EBM via Langevin Dynamics\")\n"
      ]
    }
  ]
}