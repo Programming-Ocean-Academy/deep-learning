{
  "nbformat": 4,
  "nbformat_minor": 0,
  "metadata": {
    "colab": {
      "provenance": [],
      "machine_shape": "hm",
      "gpuType": "L4"
    },
    "kernelspec": {
      "name": "python3",
      "display_name": "Python 3"
    },
    "language_info": {
      "name": "python"
    },
    "accelerator": "GPU"
  },
  "cells": [
    {
      "cell_type": "markdown",
      "source": [
        "# 📖 Neural Autoregressive Distribution Estimation (NADE) – Summary\n",
        "\n",
        "# https://arxiv.org/pdf/1711.00937\n",
        "\n",
        "## 🔎 Abstract\n",
        "The paper introduces **Neural Autoregressive Distribution Estimation (NADE)**, a tractable neural-network-based approach for **density estimation** and **unsupervised learning**.  \n",
        "\n",
        "**Key contributions:**\n",
        "- Uses the **autoregressive product rule** to factorize distributions.  \n",
        "- Employs **weight-sharing inspired by RBMs** to reduce parameters.  \n",
        "- Extends NADE to:\n",
        "  - **Binary vectors**  \n",
        "  - **Real-valued data (RNADE)**  \n",
        "  - **Deep architectures (DeepNADE)**  \n",
        "  - **Convolutional models (ConvNADE)**  \n",
        "- Achieves **competitive log-likelihoods** against RBMs, VAEs, and other state-of-the-art generative models.  \n",
        "(*Uria et al., 2014+*)\n",
        "\n",
        "---\n",
        "\n",
        "## 🎯 Purpose\n",
        "- Provide a **tractable alternative** to directed/undirected graphical models (RBMs, VAEs, DBNs).  \n",
        "- Maintain **exact likelihood evaluation** while scaling to high-dimensional data.  \n",
        "- Extend NADE to handle:\n",
        "  - Arbitrary variable orderings (**order-agnostic DeepNADE**).  \n",
        "  - **Image structure (ConvNADE)**.  \n",
        "  - **Real-valued data** via mixtures of Gaussians (**RNADE**).  \n",
        "\n",
        "---\n",
        "\n",
        "## ⚙️ Methodology\n",
        "\n",
        "### 1. Autoregressive Factorization\n",
        "Any distribution can be factorized into conditionals:\n",
        "\n",
        "$$\n",
        "p(x) = \\prod_{d=1}^D p(x_{o_d} \\mid x_{o_{<d}})\n",
        "$$\n",
        "\n",
        "Each conditional is modeled by a feed-forward NN with **weight sharing**.  \n",
        "\n",
        "---\n",
        "\n",
        "### 2. Parameterization\n",
        "\n",
        "**Hidden states update recursively:**\n",
        "\n",
        "$$\n",
        "h_d = \\sigma\\!\\left(W_{\\cdot, o_{<d}} \\, x_{o_{<d}} + c\\right)\n",
        "$$\n",
        "\n",
        "**Output distribution:**\n",
        "\n",
        "$$\n",
        "p(x_{o_d}=1 \\mid x_{o_{<d}}) = \\sigma\\!\\left(V_{o_d, \\cdot} \\, h_d + b_{o_d}\\right)\n",
        "$$\n",
        "\n",
        "---\n",
        "\n",
        "### 3. Training\n",
        "\n",
        "Optimized with **Maximum Likelihood Estimation (MLE)** via **Negative Log-Likelihood (NLL):**\n",
        "\n",
        "$$\n",
        "L = -\\frac{1}{N} \\sum_{n=1}^N \\log p(x^{(n)})\n",
        "$$\n",
        "\n",
        "**Complexity reduction:**  \n",
        "\n",
        "- From $O(HD^2)$ → $O(HD)$.  \n",
        "\n",
        "---\n",
        "\n",
        "### 4. Variants\n",
        "- **RNADE:** Real-valued data → Mixture of Gaussians per conditional.  \n",
        "- **DeepNADE:** Order-agnostic, supports multiple layers.  \n",
        "- **EoNADE:** Ensembles of DeepNADE for robustness.  \n",
        "- **ConvNADE:** Convolutional layers for images, leveraging spatial topology.  \n",
        "\n",
        "---\n",
        "\n",
        "## 📊 Results\n",
        "\n",
        "### Binary Vectors (UCI datasets)\n",
        "- NADE outperforms **Mixture of Bernoullis** and **Chow-Liu trees**.  \n",
        "- **Order-agnostic NADE (DeepNADE/EoNADE)** achieves best likelihoods on 5/8 datasets.  \n",
        "\n",
        "### Images (Binarized MNIST)\n",
        "- NADE competitive with **RBMs, DBNs, and DARN**.  \n",
        "- **ConvNADE + DeepNADE** approaches **PixelRNN performance** (NLL ≈ 80.8 vs 79.2).  \n",
        "\n",
        "### Real-Valued Data\n",
        "- **RNADE (mixture of Gaussians)** sets new **state-of-the-art likelihoods** for speech and texture data.  \n",
        "\n",
        "---\n",
        "\n",
        "## ✅ Conclusions\n",
        "\n",
        "**Main Contribution:**  \n",
        "Introduced **NADE** — the first **tractable neural autoregressive density estimator** with extensions for deep, convolutional, and real-valued settings.  \n",
        "\n",
        "**Advantages:**  \n",
        "- Exact **log-likelihood evaluation**.  \n",
        "- Efficient **ancestral sampling**.  \n",
        "- Competitive or superior results across datasets.  \n",
        "\n",
        "**Impact:**  \n",
        "- Inspired **PixelCNN/RNN** and modern autoregressive models.  \n",
        "- Provided a **foundation for probabilistic generative modeling** in both discrete and continuous domains.  \n",
        "\n",
        "**Takeaway:**  \n",
        "NADE bridges the gap between **tractability** and **expressiveness**, proving that **autoregression + neural networks** yields powerful and scalable density estimators.  \n"
      ],
      "metadata": {
        "id": "0uc53nzPshFU"
      }
    },
    {
      "cell_type": "code",
      "execution_count": 1,
      "metadata": {
        "id": "bwlu6hMRsgYY"
      },
      "outputs": [],
      "source": [
        "# 📦 Import Libraries\n",
        "\n",
        "import os\n",
        "import math\n",
        "import numpy as np\n",
        "import matplotlib.pyplot as plt\n",
        "\n",
        "import torch\n",
        "import torch.nn as nn\n",
        "import torch.nn.functional as F\n",
        "import torch.optim as optim\n",
        "\n",
        "import torchvision\n",
        "import torchvision.transforms as transforms\n",
        "from torchvision.utils import make_grid\n",
        "import torchaudio\n",
        "from tqdm import tqdm\n"
      ]
    },
    {
      "cell_type": "code",
      "source": [
        "class VectorQuantizer(nn.Module):\n",
        "    def __init__(self, num_embeddings, embedding_dim, beta=0.25):\n",
        "        super().__init__()\n",
        "        self.embedding_dim = embedding_dim\n",
        "        self.num_embeddings = num_embeddings\n",
        "        self.beta = beta\n",
        "\n",
        "        self.embedding = nn.Embedding(num_embeddings, embedding_dim)\n",
        "        self.embedding.weight.data.uniform_(-1/self.num_embeddings, 1/self.num_embeddings)\n",
        "\n",
        "    def forward(self, z_e):\n",
        "        # Flatten input\n",
        "        z_flattened = z_e.view(-1, self.embedding_dim)\n",
        "\n",
        "        # Compute distances\n",
        "        dist = (\n",
        "            torch.sum(z_flattened**2, dim=1, keepdim=True)\n",
        "            + torch.sum(self.embedding.weight**2, dim=1)\n",
        "            - 2 * torch.matmul(z_flattened, self.embedding.weight.t())\n",
        "        )\n",
        "\n",
        "        # Get nearest embeddings\n",
        "        encoding_inds = torch.argmin(dist, dim=1).unsqueeze(1)\n",
        "        quantized = self.embedding(encoding_inds).view_as(z_e)\n",
        "\n",
        "        # Loss terms\n",
        "        commitment_loss = self.beta * F.mse_loss(z_e.detach(), quantized)\n",
        "        codebook_loss = F.mse_loss(z_e, quantized.detach())\n",
        "\n",
        "        loss = commitment_loss + codebook_loss\n",
        "\n",
        "        # Straight-through estimator\n",
        "        quantized = z_e + (quantized - z_e).detach()\n",
        "\n",
        "        return quantized, loss\n"
      ],
      "metadata": {
        "id": "9RCbCPMKt7k4"
      },
      "execution_count": 2,
      "outputs": []
    },
    {
      "cell_type": "code",
      "source": [
        "class Encoder(nn.Module):\n",
        "    def __init__(self, in_channels=3, hidden=128, z_dim=64):\n",
        "        super().__init__()\n",
        "        self.conv1 = nn.Conv2d(in_channels, hidden, 4, stride=2, padding=1)\n",
        "        self.conv2 = nn.Conv2d(hidden, hidden, 4, stride=2, padding=1)\n",
        "        self.conv3 = nn.Conv2d(hidden, z_dim, 3, stride=1, padding=1)\n",
        "\n",
        "    def forward(self, x):\n",
        "        x = F.relu(self.conv1(x))\n",
        "        x = F.relu(self.conv2(x))\n",
        "        return self.conv3(x)\n",
        "\n",
        "class Decoder(nn.Module):\n",
        "    def __init__(self, z_dim=64, hidden=128, out_channels=3):\n",
        "        super().__init__()\n",
        "        self.deconv1 = nn.ConvTranspose2d(z_dim, hidden, 4, stride=2, padding=1)\n",
        "        self.deconv2 = nn.ConvTranspose2d(hidden, hidden, 4, stride=2, padding=1)\n",
        "        self.deconv3 = nn.ConvTranspose2d(hidden, out_channels, 3, stride=1, padding=1)\n",
        "\n",
        "    def forward(self, z):\n",
        "        z = F.relu(self.deconv1(z))\n",
        "        z = F.relu(self.deconv2(z))\n",
        "        return torch.sigmoid(self.deconv3(z))\n"
      ],
      "metadata": {
        "id": "Mt8zU35qt_CF"
      },
      "execution_count": 3,
      "outputs": []
    },
    {
      "cell_type": "code",
      "source": [
        "class VQVAE(nn.Module):\n",
        "    def __init__(self, num_embeddings=512, embedding_dim=64):\n",
        "        super().__init__()\n",
        "        self.encoder = Encoder(z_dim=embedding_dim)\n",
        "        self.decoder = Decoder(z_dim=embedding_dim)\n",
        "        self.vq = VectorQuantizer(num_embeddings, embedding_dim)\n",
        "\n",
        "    def forward(self, x):\n",
        "        z_e = self.encoder(x)\n",
        "        z_q, vq_loss = self.vq(z_e)\n",
        "        x_recon = self.decoder(z_q)\n",
        "        recon_loss = F.mse_loss(x_recon, x)\n",
        "        loss = recon_loss + vq_loss\n",
        "        return x_recon, loss\n"
      ],
      "metadata": {
        "id": "Gwjgtc3DuChI"
      },
      "execution_count": 4,
      "outputs": []
    },
    {
      "cell_type": "code",
      "source": [
        "# 📦 1. Imports\n",
        "import torch\n",
        "import torch.nn as nn\n",
        "import torch.nn.functional as F\n",
        "import torch.optim as optim\n",
        "import torchvision\n",
        "import torchvision.transforms as transforms\n",
        "from torchvision.utils import make_grid\n",
        "import matplotlib.pyplot as plt\n",
        "import numpy as np\n",
        "from tqdm import tqdm\n",
        "\n",
        "# Device\n",
        "device = torch.device(\"cuda\" if torch.cuda.is_available() else \"cpu\")\n",
        "\n",
        "# ⚙️ 2. Config\n",
        "batch_size = 128\n",
        "epochs = 10\n",
        "lr = 2e-4\n",
        "embedding_dim = 64\n",
        "num_embeddings = 512\n",
        "beta = 0.25\n",
        "\n",
        "# 📂 3. Dataset (CIFAR-10)\n",
        "transform = transforms.Compose([\n",
        "    transforms.ToTensor()\n",
        "])\n",
        "trainset = torchvision.datasets.CIFAR10(root='./data', train=True,\n",
        "                                        download=True, transform=transform)\n",
        "trainloader = torch.utils.data.DataLoader(trainset, batch_size=batch_size,\n",
        "                                          shuffle=True)\n",
        "\n",
        "testset = torchvision.datasets.CIFAR10(root='./data', train=False,\n",
        "                                       download=True, transform=transform)\n",
        "testloader = torch.utils.data.DataLoader(testset, batch_size=batch_size,\n",
        "                                         shuffle=False)\n",
        "\n",
        "# 🧠 4. Model Components\n",
        "class Encoder(nn.Module):\n",
        "    def __init__(self, z_dim=64):\n",
        "        super().__init__()\n",
        "        self.conv1 = nn.Conv2d(3, 128, 4, stride=2, padding=1)\n",
        "        self.conv2 = nn.Conv2d(128, 128, 4, stride=2, padding=1)\n",
        "        self.conv3 = nn.Conv2d(128, z_dim, 3, stride=1, padding=1)\n",
        "\n",
        "    def forward(self, x):\n",
        "        x = F.relu(self.conv1(x))\n",
        "        x = F.relu(self.conv2(x))\n",
        "        return self.conv3(x)\n",
        "\n",
        "class Decoder(nn.Module):\n",
        "    def __init__(self, z_dim=64):\n",
        "        super().__init__()\n",
        "        self.deconv1 = nn.ConvTranspose2d(z_dim, 128, 4, stride=2, padding=1)\n",
        "        self.deconv2 = nn.ConvTranspose2d(128, 128, 4, stride=2, padding=1)\n",
        "        self.deconv3 = nn.ConvTranspose2d(128, 3, 3, stride=1, padding=1)\n",
        "\n",
        "    def forward(self, z):\n",
        "        z = F.relu(self.deconv1(z))\n",
        "        z = F.relu(self.deconv2(z))\n",
        "        return torch.sigmoid(self.deconv3(z))\n",
        "\n",
        "class VectorQuantizer(nn.Module):\n",
        "    def __init__(self, num_embeddings, embedding_dim, beta=0.25):\n",
        "        super().__init__()\n",
        "        self.embedding_dim = embedding_dim\n",
        "        self.num_embeddings = num_embeddings\n",
        "        self.beta = beta\n",
        "\n",
        "        self.embedding = nn.Embedding(num_embeddings, embedding_dim)\n",
        "        self.embedding.weight.data.uniform_(-1/num_embeddings, 1/num_embeddings)\n",
        "\n",
        "    def forward(self, z_e):\n",
        "        # Flatten\n",
        "        z_flat = z_e.permute(0,2,3,1).contiguous()\n",
        "        z_flat = z_flat.view(-1, self.embedding_dim)\n",
        "\n",
        "        # Distances\n",
        "        dist = (torch.sum(z_flat**2, dim=1, keepdim=True)\n",
        "                + torch.sum(self.embedding.weight**2, dim=1)\n",
        "                - 2 * torch.matmul(z_flat, self.embedding.weight.t()))\n",
        "\n",
        "        # Encoding\n",
        "        encoding_inds = torch.argmin(dist, dim=1).unsqueeze(1)\n",
        "        quantized = self.embedding(encoding_inds).view(z_e.shape[0], z_e.shape[2], z_e.shape[3], self.embedding_dim)\n",
        "        quantized = quantized.permute(0,3,1,2).contiguous()\n",
        "\n",
        "        # Losses\n",
        "        commitment_loss = self.beta * F.mse_loss(z_e.detach(), quantized)\n",
        "        codebook_loss = F.mse_loss(z_e, quantized.detach())\n",
        "        vq_loss = commitment_loss + codebook_loss\n",
        "\n",
        "        # Straight-through\n",
        "        quantized = z_e + (quantized - z_e).detach()\n",
        "        return quantized, vq_loss, encoding_inds\n",
        "\n",
        "class VQVAE(nn.Module):\n",
        "    def __init__(self, num_embeddings=512, embedding_dim=64):\n",
        "        super().__init__()\n",
        "        self.encoder = Encoder(z_dim=embedding_dim)\n",
        "        self.decoder = Decoder(z_dim=embedding_dim)\n",
        "        self.vq = VectorQuantizer(num_embeddings, embedding_dim)\n",
        "\n",
        "    def forward(self, x):\n",
        "        z_e = self.encoder(x)\n",
        "        z_q, vq_loss, encodings = self.vq(z_e)\n",
        "        x_recon = self.decoder(z_q)\n",
        "        recon_loss = F.mse_loss(x_recon, x)\n",
        "        loss = recon_loss + vq_loss\n",
        "        return x_recon, loss, recon_loss, vq_loss, encodings\n"
      ],
      "metadata": {
        "colab": {
          "base_uri": "https://localhost:8080/"
        },
        "id": "zqoHS4etuokl",
        "outputId": "6260311e-37e4-4d2e-9831-20c85bda7e4f"
      },
      "execution_count": 5,
      "outputs": [
        {
          "output_type": "stream",
          "name": "stderr",
          "text": [
            "100%|██████████| 170M/170M [01:32<00:00, 1.84MB/s]\n"
          ]
        }
      ]
    },
    {
      "cell_type": "code",
      "source": [
        "# 🚀 5. Training\n",
        "model = VQVAE(num_embeddings, embedding_dim).to(device)\n",
        "optimizer = optim.Adam(model.parameters(), lr=lr)\n",
        "\n",
        "for epoch in range(epochs):\n",
        "    model.train()\n",
        "    total_loss = 0\n",
        "    for imgs, _ in tqdm(trainloader):\n",
        "        imgs = imgs.to(device)\n",
        "        optimizer.zero_grad()\n",
        "        x_recon, loss, _, _, _ = model(imgs)\n",
        "        loss.backward()\n",
        "        optimizer.step()\n",
        "        total_loss += loss.item()\n",
        "    print(f\"Epoch [{epoch+1}/{epochs}], Loss: {total_loss/len(trainloader):.4f}\")\n"
      ],
      "metadata": {
        "colab": {
          "base_uri": "https://localhost:8080/"
        },
        "id": "GF3-e7VLuway",
        "outputId": "97a72d0e-e7f2-4044-cf19-5c1fc7a36904"
      },
      "execution_count": 6,
      "outputs": [
        {
          "output_type": "stream",
          "name": "stderr",
          "text": [
            "100%|██████████| 391/391 [00:12<00:00, 31.84it/s]\n"
          ]
        },
        {
          "output_type": "stream",
          "name": "stdout",
          "text": [
            "Epoch [1/10], Loss: 0.0727\n"
          ]
        },
        {
          "output_type": "stream",
          "name": "stderr",
          "text": [
            "100%|██████████| 391/391 [00:10<00:00, 36.26it/s]\n"
          ]
        },
        {
          "output_type": "stream",
          "name": "stdout",
          "text": [
            "Epoch [2/10], Loss: 0.0118\n"
          ]
        },
        {
          "output_type": "stream",
          "name": "stderr",
          "text": [
            "100%|██████████| 391/391 [00:10<00:00, 36.31it/s]\n"
          ]
        },
        {
          "output_type": "stream",
          "name": "stdout",
          "text": [
            "Epoch [3/10], Loss: 0.0091\n"
          ]
        },
        {
          "output_type": "stream",
          "name": "stderr",
          "text": [
            "100%|██████████| 391/391 [00:11<00:00, 35.54it/s]\n"
          ]
        },
        {
          "output_type": "stream",
          "name": "stdout",
          "text": [
            "Epoch [4/10], Loss: 0.0086\n"
          ]
        },
        {
          "output_type": "stream",
          "name": "stderr",
          "text": [
            "100%|██████████| 391/391 [00:10<00:00, 36.35it/s]\n"
          ]
        },
        {
          "output_type": "stream",
          "name": "stdout",
          "text": [
            "Epoch [5/10], Loss: 0.0084\n"
          ]
        },
        {
          "output_type": "stream",
          "name": "stderr",
          "text": [
            "100%|██████████| 391/391 [00:10<00:00, 36.24it/s]\n"
          ]
        },
        {
          "output_type": "stream",
          "name": "stdout",
          "text": [
            "Epoch [6/10], Loss: 0.0080\n"
          ]
        },
        {
          "output_type": "stream",
          "name": "stderr",
          "text": [
            "100%|██████████| 391/391 [00:10<00:00, 36.44it/s]\n"
          ]
        },
        {
          "output_type": "stream",
          "name": "stdout",
          "text": [
            "Epoch [7/10], Loss: 0.0078\n"
          ]
        },
        {
          "output_type": "stream",
          "name": "stderr",
          "text": [
            "100%|██████████| 391/391 [00:10<00:00, 36.52it/s]\n"
          ]
        },
        {
          "output_type": "stream",
          "name": "stdout",
          "text": [
            "Epoch [8/10], Loss: 0.0076\n"
          ]
        },
        {
          "output_type": "stream",
          "name": "stderr",
          "text": [
            "100%|██████████| 391/391 [00:10<00:00, 36.19it/s]\n"
          ]
        },
        {
          "output_type": "stream",
          "name": "stdout",
          "text": [
            "Epoch [9/10], Loss: 0.0075\n"
          ]
        },
        {
          "output_type": "stream",
          "name": "stderr",
          "text": [
            "100%|██████████| 391/391 [00:10<00:00, 36.20it/s]"
          ]
        },
        {
          "output_type": "stream",
          "name": "stdout",
          "text": [
            "Epoch [10/10], Loss: 0.0074\n"
          ]
        },
        {
          "output_type": "stream",
          "name": "stderr",
          "text": [
            "\n"
          ]
        }
      ]
    },
    {
      "cell_type": "code",
      "source": [
        "# 🔍 6. Evaluation – Reconstructions\n",
        "model.eval()\n",
        "imgs, _ = next(iter(testloader))\n",
        "imgs = imgs.to(device)\n",
        "with torch.no_grad():\n",
        "    recons, _, _, _, _ = model(imgs)\n",
        "\n",
        "# Show original vs reconstructed\n",
        "def show_images(original, recon):\n",
        "    fig, axes = plt.subplots(2, 8, figsize=(16,4))\n",
        "    for i in range(8):\n",
        "        axes[0,i].imshow(np.transpose(original[i].cpu().numpy(), (1,2,0)))\n",
        "        axes[0,i].axis('off')\n",
        "        axes[1,i].imshow(np.transpose(recon[i].cpu().numpy(), (1,2,0)))\n",
        "        axes[1,i].axis('off')\n",
        "    plt.show()\n",
        "\n",
        "show_images(imgs, recons)\n"
      ],
      "metadata": {
        "colab": {
          "base_uri": "https://localhost:8080/",
          "height": 310
        },
        "id": "_9MZXgelu0lP",
        "outputId": "67b009d1-322f-4675-c691-ad7f7defe32a"
      },
      "execution_count": 7,
      "outputs": [
        {
          "output_type": "display_data",
          "data": {
            "text/plain": [
              "<Figure size 1600x400 with 16 Axes>"
            ],
            "image/png": "[encoded data removed]"
          },
          "metadata": {}
        }
      ]
    },
    {
      "cell_type": "code",
      "source": [
        "# 📈 7. Evaluation Metrics\n",
        "from math import log10\n",
        "\n",
        "def psnr(img1, img2):\n",
        "    mse = F.mse_loss(img1, img2).item()\n",
        "    if mse == 0:\n",
        "        return 100\n",
        "    return 20 * log10(1.0 / np.sqrt(mse))\n",
        "\n",
        "model.eval()\n",
        "total_psnr = 0\n",
        "with torch.no_grad():\n",
        "    for imgs, _ in testloader:\n",
        "        imgs = imgs.to(device)\n",
        "        recons, _, _, _, _ = model(imgs)\n",
        "        total_psnr += psnr(imgs, recons)\n",
        "print(f\"Average PSNR on test set: {total_psnr/len(testloader):.2f} dB\")\n"
      ],
      "metadata": {
        "colab": {
          "base_uri": "https://localhost:8080/"
        },
        "id": "oA9C-5hGu5eK",
        "outputId": "8a4078ee-7131-4fe2-db56-c8e1a85fddb2"
      },
      "execution_count": 8,
      "outputs": [
        {
          "output_type": "stream",
          "name": "stdout",
          "text": [
            "Average PSNR on test set: 22.69 dB\n"
          ]
        }
      ]
    },
    {
      "cell_type": "markdown",
      "source": [
        "# 📊 Results & Analysis – ReproVQVAE (Replication of van den Oord et al., NIPS 2017)\n",
        "\n",
        "## 🔄 Training\n",
        "- The model was trained on **CIFAR-10** for 10 epochs.  \n",
        "- Training converged stably, with the total loss decreasing from **~0.0727** at epoch 1 to **~0.0074** at epoch 10.  \n",
        "- This indicates that both the **reconstruction error** and the **VQ losses (commitment + codebook)** were minimized effectively, showing that the encoder, decoder, and codebook are learning jointly.\n",
        "\n",
        "---\n",
        "\n",
        "## 🖼️ Reconstructions\n",
        "- The evaluation stage compared **original CIFAR-10 images** (top row) with **reconstructions** from the VQ-VAE (bottom row).  \n",
        "- Reconstructions preserve the **global structure** (object category, shape, colors), but appear **slightly blurry** compared to originals.  \n",
        "- This is expected because VQ-VAE compresses images into a **discrete latent space** with limited embedding capacity, which sacrifices pixel-level fidelity for higher-level abstraction.  \n",
        "- Despite this, important semantic features (cars, ships, frogs, etc.) remain recognizable, confirming that the model learns **discrete, meaningful representations**.\n",
        "\n",
        "---\n",
        "\n",
        "## 📈 Quantitative Evaluation\n",
        "- The model’s reconstruction quality was assessed using **Peak Signal-to-Noise Ratio (PSNR)**.  \n",
        "- On the CIFAR-10 test set, the average PSNR was:\n",
        "\n"
      ],
      "metadata": {
        "id": "ktiKeGq5v4v9"
      }
    },
    {
      "cell_type": "markdown",
      "source": [
        "# 📊 Comparison of Generative Autoencoder Variants\n",
        "\n",
        "| Model | Paper & Authors | Key Idea | Strengths | Limitations |\n",
        "|-------|----------------|----------|------------|-------------|\n",
        "| **Variational Autoencoder (VAE)** | Kingma & Welling (2013) <br> *“Auto-Encoding Variational Bayes”* (arXiv:1312.6114) | Introduces the **variational inference framework** with continuous latent variables and the reparameterization trick. | - Tractable training with ELBO. <br> - Stable optimization. <br> - Good reconstruction quality. | - Latents often entangled. <br> - Suffers from **posterior collapse** with strong decoders. |\n",
        "| **β-VAE** | Higgins et al. (2017, DeepMind) <br> *“β-VAE: Learning Basic Visual Concepts with a Constrained Variational Framework”* | Adds a **β weighting** to the KL term to enforce stronger disentanglement of latent factors. | - Learns **disentangled, interpretable factors**. <br> - Simple modification of VAE. | - Higher β reduces reconstruction fidelity. <br> - Trade-off between disentanglement vs. sharpness. |\n",
        "| **VQ-VAE** | van den Oord, Vinyals & Kavukcuoglu (2017, DeepMind) <br> *“Neural Discrete Representation Learning”* | Replaces continuous latents with a **discrete codebook** via vector quantization; avoids posterior collapse. | - Learns **discrete, symbolic representations**. <br> - Works across images, audio, video. <br> - Supports autoregressive priors (PixelCNN/WaveNet). | - Reconstructions often **blurry**. <br> - Codebook size / usage needs tuning. |\n",
        "\n",
        "---\n"
      ],
      "metadata": {
        "id": "K2gsbLlkwIDj"
      }
    }
  ]
}