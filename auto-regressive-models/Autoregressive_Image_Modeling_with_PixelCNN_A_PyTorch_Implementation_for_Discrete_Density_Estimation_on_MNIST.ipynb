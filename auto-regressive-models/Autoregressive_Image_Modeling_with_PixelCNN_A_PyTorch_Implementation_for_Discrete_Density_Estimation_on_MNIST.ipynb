{
  "nbformat": 4,
  "nbformat_minor": 0,
  "metadata": {
    "colab": {
      "provenance": [],
      "machine_shape": "hm",
      "gpuType": "L4"
    },
    "kernelspec": {
      "name": "python3",
      "display_name": "Python 3"
    },
    "language_info": {
      "name": "python"
    },
    "accelerator": "GPU"
  },
  "cells": [
    {
      "cell_type": "code",
      "execution_count": 1,
      "metadata": {
        "colab": {
          "base_uri": "https://localhost:8080/",
          "height": 418
        },
        "id": "W69NBaUHWEkv",
        "outputId": "56987efb-2e60-4192-9a82-444c936371e5"
      },
      "outputs": [
        {
          "output_type": "stream",
          "name": "stderr",
          "text": [
            "100%|██████████| 9.91M/9.91M [00:00<00:00, 18.3MB/s]\n",
            "100%|██████████| 28.9k/28.9k [00:00<00:00, 493kB/s]\n",
            "100%|██████████| 1.65M/1.65M [00:00<00:00, 4.63MB/s]\n",
            "100%|██████████| 4.54k/4.54k [00:00<00:00, 10.8MB/s]\n",
            "Epoch 1/10: 100%|██████████| 938/938 [00:24<00:00, 38.63it/s, loss=0.814]\n",
            "Epoch 2/10: 100%|██████████| 938/938 [00:22<00:00, 40.91it/s, loss=0.766]\n",
            "Epoch 3/10: 100%|██████████| 938/938 [00:22<00:00, 41.62it/s, loss=0.793]\n",
            "Epoch 4/10: 100%|██████████| 938/938 [00:22<00:00, 41.97it/s, loss=0.746]\n",
            "Epoch 5/10: 100%|██████████| 938/938 [00:22<00:00, 41.91it/s, loss=0.764]\n",
            "Epoch 6/10: 100%|██████████| 938/938 [00:22<00:00, 41.79it/s, loss=0.786]\n",
            "Epoch 7/10: 100%|██████████| 938/938 [00:22<00:00, 41.81it/s, loss=0.747]\n",
            "Epoch 8/10: 100%|██████████| 938/938 [00:22<00:00, 42.02it/s, loss=0.746]\n",
            "Epoch 9/10: 100%|██████████| 938/938 [00:22<00:00, 42.12it/s, loss=0.753]\n",
            "Epoch 10/10: 100%|██████████| 938/938 [00:22<00:00, 41.96it/s, loss=0.782]\n"
          ]
        },
        {
          "output_type": "display_data",
          "data": {
            "text/plain": [
              "<Figure size 1200x200 with 1 Axes>"
            ],
            "image/png": "[encoded data removed]"
          },
          "metadata": {}
        }
      ],
      "source": [
        "# Autoregressive Model: PixelCNN for MNIST in PyTorch\n",
        "\n",
        "import torch\n",
        "import torch.nn as nn\n",
        "from torchvision import datasets, transforms\n",
        "from torch.utils.data import DataLoader\n",
        "import matplotlib.pyplot as plt\n",
        "import numpy as np\n",
        "from tqdm import tqdm\n",
        "\n",
        "# Device configuration\n",
        "device = torch.device(\"cuda\" if torch.cuda.is_available() else \"cpu\")\n",
        "\n",
        "# Hyperparameters\n",
        "batch_size = 64\n",
        "lr = 1e-3\n",
        "epochs = 10\n",
        "img_size = 28\n",
        "\n",
        "# Data loading and preprocessing\n",
        "dataset = datasets.MNIST(root='./data', train=True, transform=transforms.ToTensor(), download=True)\n",
        "dataloader = DataLoader(dataset, batch_size=batch_size, shuffle=True)\n",
        "\n",
        "# Masked convolution (Type A and B)\n",
        "class MaskedConv2d(nn.Conv2d):\n",
        "    def __init__(self, mask_type, *args, **kwargs):\n",
        "        super().__init__(*args, **kwargs)\n",
        "        assert mask_type in {'A', 'B'}, \"mask_type must be 'A' or 'B'\"\n",
        "        self.register_buffer('mask', self.weight.data.clone())\n",
        "        _, _, kH, kW = self.weight.size()\n",
        "        self.mask.fill_(1)\n",
        "        self.mask[:, :, kH // 2, kW // 2 + (mask_type == 'B'):] = 0\n",
        "        self.mask[:, :, kH // 2 + 1:] = 0\n",
        "\n",
        "    def forward(self, x):\n",
        "        self.weight.data *= self.mask\n",
        "        return super().forward(x)\n",
        "\n",
        "# PixelCNN model\n",
        "class PixelCNN(nn.Module):\n",
        "    def __init__(self):\n",
        "        super().__init__()\n",
        "        self.net = nn.Sequential(\n",
        "            MaskedConv2d('A', 1, 64, 7, padding=3),\n",
        "            nn.ReLU(),\n",
        "            *[layer for _ in range(5) for layer in [MaskedConv2d('B', 64, 64, 7, padding=3), nn.ReLU()]],\n",
        "            nn.Conv2d(64, 256, 1)\n",
        "        )\n",
        "\n",
        "    def forward(self, x):\n",
        "        return self.net(x)\n",
        "\n",
        "# Model and optimizer\n",
        "model = PixelCNN().to(device)\n",
        "optimizer = torch.optim.Adam(model.parameters(), lr=lr)\n",
        "criterion = nn.CrossEntropyLoss()\n",
        "\n",
        "# Training loop\n",
        "for epoch in range(epochs):\n",
        "    pbar = tqdm(dataloader, desc=f\"Epoch {epoch+1}/{epochs}\")\n",
        "    for imgs, _ in pbar:\n",
        "        imgs = (imgs * 255).long().to(device)  # convert to int [0, 255]\n",
        "        inputs = imgs.float() / 255\n",
        "        outputs = model(inputs)\n",
        "        loss = criterion(outputs, imgs.squeeze(1))\n",
        "\n",
        "        optimizer.zero_grad()\n",
        "        loss.backward()\n",
        "        optimizer.step()\n",
        "        pbar.set_postfix(loss=loss.item())\n",
        "\n",
        "# Sampling from model\n",
        "def sample(model, n_samples=8):\n",
        "    model.eval()\n",
        "    samples = torch.zeros(n_samples, 1, img_size, img_size).to(device)\n",
        "    with torch.no_grad():\n",
        "        for i in range(img_size):\n",
        "            for j in range(img_size):\n",
        "                out = model(samples)\n",
        "                probs = torch.softmax(out[:, :, i, j], dim=-1)\n",
        "                samples[:, 0, i, j] = torch.multinomial(probs, 1).squeeze().float() / 255\n",
        "    return samples\n",
        "\n",
        "# Show generated images\n",
        "def show_images(images, title=\"\"):\n",
        "    grid = torch.cat([img.squeeze(0) for img in images], dim=1).cpu().numpy()\n",
        "    plt.figure(figsize=(12, 2))\n",
        "    plt.imshow(grid, cmap=\"gray\")\n",
        "    plt.axis(\"off\")\n",
        "    plt.title(title)\n",
        "    plt.show()\n",
        "\n",
        "samples = sample(model, 8)\n",
        "show_images(samples, title=\"Generated Samples from PixelCNN\")\n"
      ]
    }
  ]
}